{
 "cells": [
  {
   "cell_type": "code",
   "execution_count": 17,
   "id": "3776376e",
   "metadata": {},
   "outputs": [
    {
     "name": "stdout",
     "output_type": "stream",
     "text": [
      "Enter your Name pls: Eslam\n",
      "Enter your Weight(kg): 79\n",
      "Enter your Height(cm): 183\n",
      "\n",
      "HI, Eslam!\n",
      "Your BMI value is: 23.59, and you are NORMAL WEIGHT \n"
     ]
    }
   ],
   "source": [
    "name =input(\"Enter your Name pls: \")\n",
    "weight = int(input(\"Enter your Weight(kg): \"))\n",
    "height = int(input(\"Enter your Height(cm): \"))\n",
    "BMI =round(((weight/(height**2))*10000),2)\n",
    "if BMI <= 18.5:\n",
    "    state=\"UNDERWEIGHT\"\n",
    "elif BMI>18.5 and BMI <=24.9:\n",
    "    state=\"NORMAL WEIGHT\"\n",
    "elif BMI>24.9 and BMI <=29.9:\n",
    "    state= \"OVERWEIGHT\"\n",
    "elif BMI >30:\n",
    "    state=\"OBESE\"\n",
    "\n",
    "print(f\"\\nHI, {name}!\")\n",
    "print(f\"Your BMI value is: {BMI}, and you are {state} \")"
   ]
  },
  {
   "cell_type": "code",
   "execution_count": null,
   "id": "d9f6c175",
   "metadata": {},
   "outputs": [],
   "source": []
  }
 ],
 "metadata": {
  "kernelspec": {
   "display_name": "Python 3 (ipykernel)",
   "language": "python",
   "name": "python3"
  },
  "language_info": {
   "codemirror_mode": {
    "name": "ipython",
    "version": 3
   },
   "file_extension": ".py",
   "mimetype": "text/x-python",
   "name": "python",
   "nbconvert_exporter": "python",
   "pygments_lexer": "ipython3",
   "version": "3.9.13"
  }
 },
 "nbformat": 4,
 "nbformat_minor": 5
}
