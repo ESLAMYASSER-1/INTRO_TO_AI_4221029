{
 "cells": [
  {
   "cell_type": "code",
   "execution_count": 3,
   "id": "22870d06",
   "metadata": {},
   "outputs": [
    {
     "name": "stdout",
     "output_type": "stream",
     "text": [
      "Enter sequense of numbers to get the summition of it.\n",
      "Enter number or Enter 'N' to stop adding: 5\n",
      "Enter number or Enter 'N' to stop adding: 8\n",
      "Enter number or Enter 'N' to stop adding: 7\n",
      "Enter number or Enter 'N' to stop adding: 9\n",
      "Enter number or Enter 'N' to stop adding: 6\n",
      "Enter number or Enter 'N' to stop adding: 2\n",
      "Enter number or Enter 'N' to stop adding: 1\n",
      "Enter number or Enter 'N' to stop adding: 4\n",
      "Enter number or Enter 'N' to stop adding: 6\n",
      "Enter number or Enter 'N' to stop adding: 5\n",
      "Enter number or Enter 'N' to stop adding: 4\n",
      "Enter number or Enter 'N' to stop adding: 8\n",
      "Enter number or Enter 'N' to stop adding: N\n",
      "your list is ==> : [5, 8, 7, 9, 6, 2, 1, 4, 6, 5, 4, 8]\n",
      "sum of your list elements is: 65\n"
     ]
    }
   ],
   "source": [
    "lst =[]\n",
    "print(\"Enter sequense of numbers to get the summition of it.\")\n",
    "value=True\n",
    "while (value):\n",
    "    x= input(\"Enter number or Enter 'N' to stop adding: \")\n",
    "    if x == \"N\":\n",
    "        break\n",
    "    lst.append(int(x))\n",
    "print(f\"your list is ==> : {lst}\")\n",
    "print(f\"sum of your list elements is: {sum(lst)}\")"
   ]
  },
  {
   "cell_type": "code",
   "execution_count": 4,
   "id": "92a81baa",
   "metadata": {},
   "outputs": [],
   "source": [
    "def get_sum (lst):\n",
    "    print(sum(lst))\n",
    "    \n",
    "get_sum([1,3,4,56,7])"
   ]
  },
  {
   "cell_type": "code",
   "execution_count": 9,
   "id": "c5fc37b8",
   "metadata": {},
   "outputs": [
    {
     "name": "stdout",
     "output_type": "stream",
     "text": [
      "120\n"
     ]
    }
   ],
   "source": [
    "def factorial(num):\n",
    "    res=1\n",
    "    for i in range(num,0,-1):\n",
    "        res=res*i\n",
    "    print(res)\n",
    "factorial(5)"
   ]
  }
 ],
 "metadata": {
  "kernelspec": {
   "display_name": "Python 3 (ipykernel)",
   "language": "python",
   "name": "python3"
  },
  "language_info": {
   "codemirror_mode": {
    "name": "ipython",
    "version": 3
   },
   "file_extension": ".py",
   "mimetype": "text/x-python",
   "name": "python",
   "nbconvert_exporter": "python",
   "pygments_lexer": "ipython3",
   "version": "3.9.13"
  },
  "vscode": {
   "interpreter": {
    "hash": "ad2bdc8ecc057115af97d19610ffacc2b4e99fae6737bb82f5d7fb13d2f2c186"
   }
  }
 },
 "nbformat": 4,
 "nbformat_minor": 5
}
