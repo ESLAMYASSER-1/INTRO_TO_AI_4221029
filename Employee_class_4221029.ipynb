{
 "cells": [
  {
   "cell_type": "code",
   "execution_count": 44,
   "id": "67b1b71b",
   "metadata": {
    "scrolled": true
   },
   "outputs": [
    {
     "name": "stdout",
     "output_type": "stream",
     "text": [
      "Employee(\"ADAMS\",\"E7876\",50000,\"ACCOUNTING\")\n",
      "Employee(\"ADAMS\",\"E7876\",50000,\"IT\") \n",
      "\n",
      "Your salary is:50000$\n",
      "You worked:53H\n",
      "Over time is:3H\n",
      "your total salary is:53000.0$\n"
     ]
    }
   ],
   "source": [
    "class Employee:\n",
    "    def __init__(self,emp_name:str, emp_id, emp_salary:float, emp_department:str):\n",
    "        #check argument input validation with assertion \n",
    "        assert emp_salary>=0,f\"Salary value '{emp_salary}' should be greater or equal to zero!\"\n",
    "        # Attriputes for instances\n",
    "        self.name=emp_name\n",
    "        self.id=emp_id\n",
    "        self.salary=emp_salary\n",
    "        self.department=emp_department\n",
    "    # method to change employee's department\n",
    "    def assign_department(self,new_department:str):\n",
    "        self.department=new_department\n",
    "    # method to change the way of representing the instances(objects)\n",
    "    def __repr__(self):\n",
    "        return f'Employee(\"{self.name}\",\"{self.id}\",{self.salary},\"{self.department}\")'\n",
    "    # method to calculate the total salary for instances who worked for more than there work hours\n",
    "    def calculate_salary(self,hours_worked:float):\n",
    "        if hours_worked>50:\n",
    "            over_time=hours_worked - 50\n",
    "            over_time_amount=over_time*(self.salary/50)\n",
    "            total_salary=over_time_amount+self.salary\n",
    "            print(f\"Your salary is:{self.salary}$\\nYou worked:{hours_worked}H\\nOver time is:{over_time}H\\nyour total salary is:{total_salary}$\")\n",
    "        else:\n",
    "            print(self.salary)\n",
    "# declaring(setting) instances for employees from class Employee           \n",
    "emp1=Employee(\"ADAMS\", \"E7876\", 50000, \"ACCOUNTING\")\n",
    "emp2=Employee(\"JONES\", \"E7499\", 45000, \"RESEARCH\")\n",
    "emp3=Employee(\"MARTIN\", \"E7900\", 50000, \"SALES\")\n",
    "emp4=Employee(\"SMITH\", \"E7698\", 55000, \"OPERATIONS\")\n",
    "\n",
    "# trying methods on (emp1)\n",
    "print(emp1)\n",
    "emp1.assign_department(\"IT\")\n",
    "print(emp1,\"\\n\")\n",
    "\n",
    "emp1.calculate_salary(53)\n"
   ]
  },
  {
   "cell_type": "code",
   "execution_count": null,
   "id": "8aacd46f",
   "metadata": {},
   "outputs": [],
   "source": []
  }
 ],
 "metadata": {
  "kernelspec": {
   "display_name": "Python 3 (ipykernel)",
   "language": "python",
   "name": "python3"
  },
  "language_info": {
   "codemirror_mode": {
    "name": "ipython",
    "version": 3
   },
   "file_extension": ".py",
   "mimetype": "text/x-python",
   "name": "python",
   "nbconvert_exporter": "python",
   "pygments_lexer": "ipython3",
   "version": "3.9.13"
  }
 },
 "nbformat": 4,
 "nbformat_minor": 5
}
